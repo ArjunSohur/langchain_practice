{
 "cells": [
  {
   "cell_type": "markdown",
   "metadata": {},
   "source": [
    "Trying LCEL"
   ]
  },
  {
   "cell_type": "code",
   "execution_count": 83,
   "metadata": {},
   "outputs": [
    {
     "name": "stderr",
     "output_type": "stream",
     "text": [
      "huggingface/tokenizers: The current process just got forked, after parallelism has already been used. Disabling parallelism to avoid deadlocks...\n",
      "To disable this warning, you can either:\n",
      "\t- Avoid using `tokenizers` before the fork if possible\n",
      "\t- Explicitly set the environment variable TOKENIZERS_PARALLELISM=(true | false)\n"
     ]
    },
    {
     "name": "stdout",
     "output_type": "stream",
     "text": [
      "Note: you may need to restart the kernel to use updated packages.\n"
     ]
    }
   ],
   "source": [
    "pip install langchain bs4 sentence_transformers feedparser newspaper3k --quiet"
   ]
  },
  {
   "cell_type": "code",
   "execution_count": 84,
   "metadata": {},
   "outputs": [],
   "source": [
    "from langchain.llms import Ollama\n",
    "from langchain.vectorstores import Chroma\n",
    "from langchain.document_loaders import WebBaseLoader\n",
    "from langchain.embeddings import HuggingFaceBgeEmbeddings\n",
    "from langchain.text_splitter import RecursiveCharacterTextSplitter\n",
    "from langchain_core.output_parsers import StrOutputParser\n",
    "from langchain_core.runnables import RunnableParallel, RunnablePassthrough\n",
    "from langchain.prompts import ChatPromptTemplate\n",
    "\n",
    "import feedparser\n",
    "from requests.exceptions import Timeout\n",
    "import json\n",
    "from datetime import datetime, timedelta\n",
    "\n",
    "from newspaper import Article\n"
   ]
  },
  {
   "cell_type": "code",
   "execution_count": 85,
   "metadata": {},
   "outputs": [],
   "source": [
    "feeds = [\n",
    "    [\"CNN Top Stories\", \"http://rss.cnn.com/rss/cnn_topstories.rss\"],\n",
    "    [\"CNN World\", \"http://rss.cnn.com/rss/cnn_world.rss\"],\n",
    "    [\"CNN US\", \"http://rss.cnn.com/rss/cnn_us.rss\"],\n",
    "    [\"CNN Business\", \"http://rss.cnn.com/rss/money_latest.rss\"],\n",
    "    [\"CNN Politics\", \"http://rss.cnn.com/rss/cnn_allpolitics.rss\"],\n",
    "    [\"CNN Tech\", \"http://rss.cnn.com/rss/cnn_tech.rss\"],\n",
    "    [\"CNN Health\", \"http://rss.cnn.com/rss/cnn_health.rss\"],\n",
    "    [\"CNN Entertainment\", \"http://rss.cnn.com/rss/cnn_showbiz.rss\"],\n",
    "    [\"CNN Travel\", \"http://rss.cnn.com/rss/cnn_travel.rss\"],\n",
    "   ]"
   ]
  },
  {
   "cell_type": "code",
   "execution_count": 86,
   "metadata": {},
   "outputs": [],
   "source": [
    "count = 0\n",
    "links = []\n",
    "\n",
    "for sub_feed in feeds:\n",
    "    feed = feedparser.parse(sub_feed[1])\n",
    "    one_day_ago = datetime.now() - timedelta(days=1)\n",
    "\n",
    "    recent_items = []\n",
    "    for entry in feed.entries:\n",
    "        try:\n",
    "            published = datetime(*entry.published_parsed[:6])\n",
    "            # if published > one_day_ago:\n",
    "            recent_items.append(entry)\n",
    "        except:\n",
    "            if not entry.title == \"\":\n",
    "                recent_items.append(entry)\n",
    "\n",
    "    for item in recent_items:\n",
    "        try:\n",
    "            links.append(item.links[0].href)\n",
    "\n",
    "        except Timeout:\n",
    "            print(\"ARTICLE COLLECTION TIMED OUT:\", item.links[0].href)\n",
    "        except Exception as e:\n",
    "            print(\"ARTICLE COLLECTION ERROR:\", e)"
   ]
  },
  {
   "cell_type": "code",
   "execution_count": 87,
   "metadata": {},
   "outputs": [
    {
     "name": "stdout",
     "output_type": "stream",
     "text": [
      "ERROR DOWNLOADING ARTICLE: https://www.cnn.com/cnn-underscored/home/editors-favorite-sustainable-products?iid=CNNUnderscoredHPcontainer\n",
      "ERROR DOWNLOADING ARTICLE: https://www.cnn.com/cnn-underscored/gifts/best-mothers-day-gifts-2023?iid=CNNUnderscoredHPcontainer\n",
      "ERROR DOWNLOADING ARTICLE: https://www.cnn.com/cnn-underscored/fashion/mens-spring-fashion-style-guide?iid=CNNUnderscoredHPcontainer\n",
      "ERROR DOWNLOADING ARTICLE: https://www.cnn.com/cnn-underscored/travel/amazon-travel-products?iid=CNNUnderscoredHPcontainer\n",
      "ERROR DOWNLOADING ARTICLE: https://www.cnn.com/cnn-underscored/money/high-yield-savings-accounts?iid=CNNUnderscoredHPcontainer\n",
      "ERROR DOWNLOADING ARTICLE: https://www.cnn.com/cnn-underscored/money/how-to-file-taxes?iid=CNNUnderscoredHPcontainer\n",
      "ERROR DOWNLOADING ARTICLE: https://www.cnn.com/cnn-underscored/home/how-to-compost-at-home?iid=CNNUnderscoredHPcontainer\n",
      "ERROR DOWNLOADING ARTICLE: https://www.cnn.com/cnn-underscored/reviews/mmmat-silicone-mats?iid=CNNUnderscoredHPcontainer\n",
      "ERROR DOWNLOADING ARTICLE: https://www.cnn.com/cnn-underscored/deals/dyson-supersonic-sale-2023-04-17?iid=CNNUnderscoredHPcontainer?iid=CNNUnderscoredHPcontainer\n",
      "ERROR DOWNLOADING ARTICLE: https://www.cnn.com/cnn-underscored/deals/wayfair-way-day-2023-04-17?iid=CNNUnderscoredHPcontainer\n",
      "ERROR DOWNLOADING ARTICLE: https://www.cnn.com/cnn-underscored/deals/best-amazon-deals-2023-04-12?iid=CNNUnderscoredHPcontainer\n",
      "ERROR DOWNLOADING ARTICLE: https://www.lendingtree.com/?splitterid=home-equity&cproduct=he&cchannel=content&csource=cnn&cmethod=heform&ccreative=risingequitycash_housemoneystack&placement_name=sectionfronts&ad_headline=risingequitycash&ad_image_name=housemoneystack&ctype=sectionfronts&bdst=revshare&mtaid=AC53E&esourceid=6348616\n",
      "ERROR DOWNLOADING ARTICLE: https://www.lendingtree.com/?splitterid=home-equity&cproduct=he&cchannel=content&csource=cnn&cmethod=heform&ccreative=dreambighomeequity_housemoneystack&placement_name=sectionfronts&ad_headline=dreambighomeequity&ad_image_name=housemoneystack&ctype=sectionfronts&bdst=revshare&mtaid=AC53E&esourceid=6348616\n",
      "ERROR DOWNLOADING ARTICLE: https://www.lendingtree.com/?splitterid=home-equity&cproduct=he&cchannel=content&csource=cnn&cmethod=heform&ccreative=cashoutoptions_housemoneystack&placement_name=sectionfronts&ad_headline=cashoutoptions&ad_image_name=housemoneystack&ctype=sectionfronts&bdst=revshare&mtaid=AC53E&esourceid=6348616\n",
      "ERROR DOWNLOADING ARTICLE: https://www.cnn.com/video/playlists/this-week-in-politics/\n",
      "ERROR DOWNLOADING ARTICLE: https://www.lendingtree.com/?splitterid=home-equity&cproduct=he&cchannel=content&csource=cnn&cmethod=heform&ccreative=risingequitycash_housemoneystack&placement_name=sectionfronts&ad_headline=risingequitycash&ad_image_name=housemoneystack&ctype=sectionfronts&bdst=revshare&mtaid=AC53E&esourceid=6348616\n",
      "ERROR DOWNLOADING ARTICLE: https://www.lendingtree.com/?splitterid=home-equity&cproduct=he&cchannel=content&csource=cnn&cmethod=heform&ccreative=dreambighomeequity_housemoneystack&placement_name=sectionfronts&ad_headline=dreambighomeequity&ad_image_name=housemoneystack&ctype=sectionfronts&bdst=revshare&mtaid=AC53E&esourceid=6348616\n",
      "ERROR DOWNLOADING ARTICLE: https://www.lendingtree.com/?splitterid=home-equity&cproduct=he&cchannel=content&csource=cnn&cmethod=heform&ccreative=cashoutoptions_housemoneystack&placement_name=sectionfronts&ad_headline=cashoutoptions&ad_image_name=housemoneystack&ctype=sectionfronts&bdst=revshare&mtaid=AC53E&esourceid=6348616\n",
      "ERROR DOWNLOADING ARTICLE: https://www.comparecards.com/?splitterid=coca-category-low-interest&mtaid=8631C&esourceid=6497536&utm_source=cnn&tar=sectionfronts&grp=cat-low-interest&utm_content=use+the+right+card+for+holiday+gifts+you+could+save+hundreds&adt=brunetteredcard&placement_name=sectionfronts&ad_headline=use+the+right+card+for+holiday+gifts+you+could+save+hundreds&ad_image_name=brunetteredcard&utm_medium=native&ad_position=0&bdst=revshare\n",
      "ERROR DOWNLOADING ARTICLE: https://www.comparecards.com/?splitterid=coca-category-low-interest&mtaid=8631C&esourceid=6497536&utm_source=cnn&tar=sectionfronts&grp=cat-low-interest&utm_content=10+cards+charging+0+interest+until+2024&adt=brunetteredcard&placement_name=sectionfronts&ad_headline=10+cards+charging+0+interest+until+2024&ad_image_name=brunetteredcard&utm_medium=native&ad_position=0&bdst=revshare\n",
      "ERROR DOWNLOADING ARTICLE: https://www.comparecards.com/?splitterid=coca-cat-cash-back&mtaid=8631C&esourceid=6488886&utm_source=cnn&tar=sectionfronts&grp=cat-cb&utm_content=get+a+200+cash+back+bonus+on+holiday+gift+buying&adt=brunetteredcard&placement_name=sectionfronts&ad_headline=get+a+200+cash+back+bonus+on+holiday+gift+buying&ad_image_name=brunetteredcard&utm_medium=native&ad_position=0&bdst=revshare\n",
      "ERROR DOWNLOADING ARTICLE: https://www.cnn.com/2020/08/28/cnn-underscored/theragun-review/index.html\n",
      "ERROR DOWNLOADING ARTICLE: https://www.cnn.com/2021/01/13/cnn-underscored/best-workout-clothes-for-women/index.html\n"
     ]
    }
   ],
   "source": [
    "model = Ollama(model='mistral')\n",
    "\n",
    "\n",
    "embedder_name = \"BAAI/bge-base-en-v1.5\"\n",
    "model_kwargs = {\"device\": \"cpu\"}\n",
    "encode_kwargs = {\"normalize_embeddings\": True}\n",
    "\n",
    "embedder = HuggingFaceBgeEmbeddings(\n",
    "    model_name=embedder_name,\n",
    "    model_kwargs=model_kwargs,\n",
    "    encode_kwargs=encode_kwargs\n",
    ")\n",
    "\n",
    "text_splitter = RecursiveCharacterTextSplitter(chunk_size=500, chunk_overlap=50)\n",
    "\n",
    "split_data = []\n",
    "for link in links:\n",
    "    good_2_go = True\n",
    "    try:\n",
    "        article = Article(link)\n",
    "        article.download()\n",
    "        article.parse()\n",
    "    except:\n",
    "        good_2_go = False\n",
    "        print(\"ERROR DOWNLOADING ARTICLE:\", link)\n",
    "    \n",
    "\n",
    "    meta_data = f\"Source \\n Title: {article.title} \\n Url: {link} \\n Publish Date: {article.publish_date} \\n  Excerpt from source: \"\n",
    "\n",
    "    if good_2_go and not article.text is None:\n",
    "        candidate = text_splitter.create_documents([article.text])\n",
    "\n",
    "        temp_split_data = text_splitter.split_documents(candidate)\n",
    "\n",
    "        for split in temp_split_data:\n",
    "            split.page_content = meta_data + split.page_content\n",
    "        \n",
    "        split_data += temp_split_data\n",
    "\n",
    "\n",
    "vectorstore = Chroma.from_documents(documents=split_data, embedding=embedder)\n",
    "\n",
    "output_parser = StrOutputParser()\n",
    "\n",
    "setup_and_retrieval = RunnableParallel(\n",
    "    {\"context\": vectorstore.as_retriever(), \"question\": RunnablePassthrough()}\n",
    ")"
   ]
  },
  {
   "cell_type": "code",
   "execution_count": 79,
   "metadata": {},
   "outputs": [],
   "source": [
    "template = \"\"\"\n",
    "You are a news expert who answers questions about news.  \n",
    "\n",
    "You must only use the most recent data from this context:\n",
    "{context}\n",
    "\n",
    "Do not rely on your historical records.\n",
    "\n",
    "Answer as concisely as possible, but make sure that your information\n",
    "lines up with the sources.  \n",
    "\n",
    "Your answer should be in the following format:\n",
    "    Your answer to the question here.\n",
    "\n",
    "    Sources: [article title, source link, publish date]\n",
    "\n",
    "Cite all Possible sources and put each on a new line.\n",
    "If you don't have the relevent information to answer the question or a source,\n",
    "tell the user so.  Err on the side of caution.\n",
    "\n",
    "If the question or topic is off topic and not about news at all, tell the user so.\n",
    "\n",
    "Here is the question: {question}\n",
    "\"\"\"\n",
    "\n",
    "prompt = ChatPromptTemplate.from_template(template)\n",
    "\n",
    "chain = setup_and_retrieval | prompt | model | output_parser"
   ]
  },
  {
   "cell_type": "code",
   "execution_count": 81,
   "metadata": {},
   "outputs": [
    {
     "name": "stdout",
     "output_type": "stream",
     "text": [
      "{'context': [Document(page_content='Source \\n Title: Three Months After Biden, It’s Xi’s Turn to Court Vietnam \\n Url: https://www.nytimes.com/2023/12/12/world/asia/china-vietnam-xi-jinping.html \\n Publish Date: 2023-12-12 00:00:00 \\n  Excerpt from source: “This is a very delicate dance for Vietnam’s government,” said Alexander Vuving, a professor at the Asia-Pacific Center for Security Studies in Honolulu. “They have to dance on a very thin tightrope, and the tightrope has become even thinner.”\\n\\nMr. Xi, analysts say, wants to test Vietnam’s intentions, seeking reassurances that it is not siding against China with the United States after Washington and Hanoi agreed in September to form a “comprehensive strategic partnership.”'), Document(page_content='Source \\n Title: Three Months After Biden, It’s Xi’s Turn to Court Vietnam \\n Url: https://www.nytimes.com/2023/12/12/world/asia/china-vietnam-xi-jinping.html \\n Publish Date: 2023-12-12 00:00:00 \\n  Excerpt from source: Few nations now feature more centrally in the great-power competition between the United States and China, placing Vietnam, which has a long history of fierce independence, in a high-risk, high-reward position. Keeping both giants happy could mean a transformative economic boost; angering one or the other could bring heavy costs.'), Document(page_content='Source \\n Title: China GDP: Economy shakes off Covid legacy to grow 4.5% in Q1 \\n Url: https://www.cnn.com/2023/04/17/economy/china-gdp-q1-2023-intl-hnk/index.html \\n Publish Date: 2023-04-17 00:00:00 \\n  Excerpt from source: Private business retreat\\n\\nHowever, some analysts believe the strong growth reported in the first quarter was the product of “backloading” of economic activity from the fourth quarter of 2022, which was weighed down by pandemic restrictions and then a chaotic reopening.\\n\\n“Our core view is that China’s economy is deflationary,” said Raymond Yeung, chief economist for Greater China at ANZ Research, in a Tuesday research report.'), Document(page_content='Source \\n Title: China GDP: Economy shakes off Covid legacy to grow 4.5% in Q1 \\n Url: https://www.cnn.com/2023/04/17/economy/china-gdp-q1-2023-intl-hnk/index.html \\n Publish Date: 2023-04-17 00:00:00 \\n  Excerpt from source: Private business retreat\\n\\nHowever, some analysts believe the strong growth reported in the first quarter was the product of “backloading” of economic activity from the fourth quarter of 2022, which was weighed down by pandemic restrictions and then a chaotic reopening.\\n\\n“Our core view is that China’s economy is deflationary,” said Raymond Yeung, chief economist for Greater China at ANZ Research, in a Tuesday research report.')], 'question': 'What is happening with taiwan and china?'}\n",
      "\n",
      "It is three months after Biden, and Xi is currently engaging with Vietnam in a delicate dance. The government of Vietnam must navigate on a thin tightrope while reassuring both China and the United States that it will not align itself against them. This position has high risks but also high rewards, as it can lead to an economic boost if both giants are happy. However, analysts believe that China's economy is deflationary.\n",
      "\n",
      "Sources:\n",
      "\n",
      "1. \"Three Months After Biden, It’s Xi’s Turn to Court Vietnam\" by David E. Sanger, The New York Times, 2023-12-12 00:00:00\n",
      "2. \"China GDP: Economy shakes off Covid legacy to grow 4.5% in Q1\" by Ryan Prior and Michelle Toh, CNN, 2023-04-17 00:00:00\n"
     ]
    }
   ],
   "source": [
    "print(setup_and_retrieval.invoke(\"What is happening with taiwan and china?\"))\n",
    "\n",
    "print(chain.invoke(\"What is happening with taiwan and china?\"))"
   ]
  }
 ],
 "metadata": {
  "kernelspec": {
   "display_name": "Python 3",
   "language": "python",
   "name": "python3"
  },
  "language_info": {
   "codemirror_mode": {
    "name": "ipython",
    "version": 3
   },
   "file_extension": ".py",
   "mimetype": "text/x-python",
   "name": "python",
   "nbconvert_exporter": "python",
   "pygments_lexer": "ipython3",
   "version": "3.11.4"
  }
 },
 "nbformat": 4,
 "nbformat_minor": 2
}
