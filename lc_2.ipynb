{
 "cells": [
  {
   "cell_type": "markdown",
   "metadata": {},
   "source": [
    "Trying LCEL"
   ]
  },
  {
   "cell_type": "code",
   "execution_count": 1,
   "metadata": {},
   "outputs": [
    {
     "name": "stdout",
     "output_type": "stream",
     "text": [
      "Note: you may need to restart the kernel to use updated packages.\n"
     ]
    }
   ],
   "source": [
    "pip install langchain bs4 sentence_transformers feedparser newspaper3k --quiet"
   ]
  },
  {
   "cell_type": "code",
   "execution_count": 3,
   "metadata": {},
   "outputs": [],
   "source": [
    "from langchain.llms import Ollama\n",
    "from langchain.vectorstores import Chroma\n",
    "from langchain.document_loaders import WebBaseLoader\n",
    "from langchain.embeddings import HuggingFaceBgeEmbeddings\n",
    "from langchain.text_splitter import RecursiveCharacterTextSplitter\n",
    "from langchain_core.output_parsers import StrOutputParser\n",
    "from langchain_core.runnables import RunnableParallel, RunnablePassthrough\n",
    "from langchain.prompts import ChatPromptTemplate\n",
    "\n",
    "import feedparser\n",
    "from requests.exceptions import Timeout\n",
    "import json\n",
    "from datetime import datetime, timedelta\n",
    "\n",
    "from newspaper import Article\n"
   ]
  },
  {
   "cell_type": "code",
   "execution_count": 4,
   "metadata": {},
   "outputs": [],
   "source": [
    "feeds = [\n",
    "    [\"NYT\", \"https://rss.nytimes.com/services/xml/rss/nyt/HomePage.xml\"]\n",
    "]"
   ]
  },
  {
   "cell_type": "code",
   "execution_count": 5,
   "metadata": {},
   "outputs": [],
   "source": [
    "count = 0\n",
    "links = []\n",
    "\n",
    "for sub_feed in feeds:\n",
    "    feed = feedparser.parse(sub_feed[1])\n",
    "    one_day_ago = datetime.now() - timedelta(days=1)\n",
    "\n",
    "    recent_items = []\n",
    "    for entry in feed.entries:\n",
    "        try:\n",
    "            published = datetime(*entry.published_parsed[:6])\n",
    "            # if published > one_day_ago:\n",
    "            recent_items.append(entry)\n",
    "        except:\n",
    "            if not entry.title == \"\":\n",
    "                recent_items.append(entry)\n",
    "\n",
    "    for item in recent_items:\n",
    "        try:\n",
    "            links.append(item.links[0].href)\n",
    "\n",
    "        except Timeout:\n",
    "            print(\"ARTICLE COLLECTION TIMED OUT:\", item.links[0].href)\n",
    "        except Exception as e:\n",
    "            print(\"ARTICLE COLLECTION ERROR:\", e)"
   ]
  },
  {
   "cell_type": "code",
   "execution_count": 31,
   "metadata": {},
   "outputs": [],
   "source": [
    "model = Ollama(model='mistral')\n",
    "\n",
    "\n",
    "embedder_name = \"BAAI/bge-base-en-v1.5\"\n",
    "model_kwargs = {\"device\": \"cpu\"}\n",
    "encode_kwargs = {\"normalize_embeddings\": True}\n",
    "\n",
    "embedder = HuggingFaceBgeEmbeddings(\n",
    "    model_name=embedder_name,\n",
    "    model_kwargs=model_kwargs,\n",
    "    encode_kwargs=encode_kwargs\n",
    ")\n",
    "\n",
    "\n",
    "# url = \"https://en.wikipedia.org/wiki/Cyclone_Michaung\"\n",
    "\n",
    "text_splitter = RecursiveCharacterTextSplitter(chunk_size=500, chunk_overlap=50)\n",
    "\n",
    "split_data = []\n",
    "for link in links:\n",
    "    article = Article(link)\n",
    "    article.download()\n",
    "    article.parse()\n",
    "\n",
    "    meta_data = f\"Source \\n Title: {article.title} \\n Url: {link} \\n Publish Date: {article.publish_date} \\n  Excerpt from source: \"\n",
    "\n",
    "    if not article.text is None:\n",
    "        candidate = text_splitter.create_documents([article.text])\n",
    "\n",
    "        temp_split_data = text_splitter.split_documents(candidate)\n",
    "\n",
    "        for split in temp_split_data:\n",
    "            split.page_content = meta_data + split.page_content\n",
    "        \n",
    "        split_data += temp_split_data\n",
    "\n",
    "\n",
    "vectorstore = Chroma.from_documents(documents=split_data, embedding=embedder)\n",
    "\n",
    "output_parser = StrOutputParser()\n",
    "\n",
    "setup_and_retrieval = RunnableParallel(\n",
    "    {\"context\": vectorstore.as_retriever(), \"question\": RunnablePassthrough()}\n",
    ")"
   ]
  },
  {
   "cell_type": "code",
   "execution_count": 32,
   "metadata": {},
   "outputs": [],
   "source": [
    "template = \"\"\"\n",
    "You are a news expert who answers questions about news.  \n",
    "\n",
    "You must only use the most recent data from this context:\n",
    "{context}\n",
    "\n",
    "Do not rely on your historical records.\n",
    "\n",
    "Answer as concisely as possible, but make sure that your information\n",
    "lines up with the sources.  \n",
    "\n",
    "You must name any sources at the end of your answer in the following format: \n",
    "\"Sources: \\n[article title, source link, publish date]\"\n",
    "\n",
    "If you don't have the relevent information to answer the question or a source,\n",
    "tell the user so.  Err on the side of caution.\n",
    "\n",
    "If the question or topic is not about news, tell the user \"Sorry, I can only answer \n",
    "questions about news\".\n",
    "\n",
    "Here is the question: {question}\n",
    "\"\"\"\n",
    "\n",
    "prompt = ChatPromptTemplate.from_template(template)\n",
    "\n",
    "chain = setup_and_retrieval | prompt | model | output_parser"
   ]
  },
  {
   "cell_type": "code",
   "execution_count": 33,
   "metadata": {},
   "outputs": [
    {
     "name": "stdout",
     "output_type": "stream",
     "text": [
      "{'context': [Document(page_content='Title: How the Israel-Hamas War Tore Apart Public Defenders in the Bronx \\n Url: https://www.nytimes.com/2023/12/14/nyregion/bronx-defenders-israel-gaza.html \\n Publish Date: 2023-12-14 00:00:00'), Document(page_content=' \\n Title: To Fight Hamas, Israel’s Leaders Stopped Fighting One Another. For Now. \\n Url: https://www.nytimes.com/2023/12/14/world/middleeast/israel-war-cabinet-gaza-netanyahu.html \\n Publish Date: 2023-12-14 00:00:00 \\n  Hints of those personal tensions surface from time to time, particularly when one member holds a solo news conference, or when they shift uncomfortably during joint briefings, practically grimacing when reporters ask how they are getting along.'), Document(page_content=' \\n Title: To Fight Hamas, Israel’s Leaders Stopped Fighting One Another. For Now. \\n Url: https://www.nytimes.com/2023/12/14/world/middleeast/israel-war-cabinet-gaza-netanyahu.html \\n Publish Date: 2023-12-14 00:00:00 \\n  It has also bought Prime Minister Benjamin Netanyahu time in the face of public anger over his government’s failures surrounding the Oct. 7 attack, — as well as created new political risks.'), Document(page_content='Source \\n Title: How the Israel-Hamas War Tore Apart Public Defenders in the Bronx \\n Url: https://www.nytimes.com/2023/12/14/nyregion/bronx-defenders-israel-gaza.html \\n Publish Date: 2023-12-14 00:00:00 \\n  Excerpt from source: The rancorous politics of the Israel-Hamas war have put immense pressure on leaders to issue statements on the conflict, even if such statements have little effect. The conflict has roiled Ivy League universities, forcing the University of Pennsylvania’s president to resign. It has divided Democrats, split Hollywood and caused an uproar at nonprofits whose focus ranges from free speech to women’s health.')], 'question': 'What is the latest new on isreal and gaza?'}\n",
      "----------------------------------\n",
      "Sources: \n",
      "Title: How the Israel-Hamas War Tore Apart Public Defenders in the Bronx, Source URL: https://www.nytimes.com/2023/12/14/nyregion/bronx-defenders-israel-gaza.html, Publish Date: 2023-12-14 00:00:00\n",
      "Title: To Fight Hamas, Israel’s Leaders Stopped Fighting One Another. For Now., Source URL: https://www.nytimes.com/2023/12/14/world/middleeast/israel-war-cabinet-gaza-netanyahu.html, Publish Date: 2023-12-14 00:00:00\n",
      "Title: To Fight Hamas, Israel’s Leaders Stopped Fighting One Another. For Now., Source URL: https://www.nytimes.com/2023/12/14/world/middleeast/israel-war-cabinet-gaza-netanyahu.html, Publish Date: 2023-12-14 00:00:00\n",
      "Title: How the Israel-Hamas War Tore Apart Public Defenders in the Bronx, Source URL: https://www.nytimes.com/2023/12/14/nyregion/bronx-defenders-israel-gaza.html, Publish Date: 2023-12-14 00:00:00\n",
      "\n",
      "There is no recent news on Israel and Gaza as of the given context. However, in December 2023, there were reports that Israeli Prime Minister Benjamin Netanyahu's government faced criticism for its handling of the October 7 attack. The conflict has also caused divisions within various sectors such as universities, nonprofits, and the entertainment industry. Sources suggest that the rancorous politics surrounding the Israel-Hamas war have put immense pressure on leaders to issue statements on the conflict, even if they are ineffective.\n",
      "\n",
      "I hope this information helps! Let me know if you have any other questions.\n"
     ]
    }
   ],
   "source": [
    "print(setup_and_retrieval.invoke(\"What is the latest new on isreal and gaza?\"))\n",
    "\n",
    "print(\"----------------------------------\")\n",
    "\n",
    "print(chain.invoke(\"What is the latest new on isreal and gaza?\"))"
   ]
  }
 ],
 "metadata": {
  "kernelspec": {
   "display_name": "Python 3",
   "language": "python",
   "name": "python3"
  },
  "language_info": {
   "codemirror_mode": {
    "name": "ipython",
    "version": 3
   },
   "file_extension": ".py",
   "mimetype": "text/x-python",
   "name": "python",
   "nbconvert_exporter": "python",
   "pygments_lexer": "ipython3",
   "version": "3.11.4"
  }
 },
 "nbformat": 4,
 "nbformat_minor": 2
}
