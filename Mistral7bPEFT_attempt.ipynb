{
 "cells": [
  {
   "cell_type": "markdown",
   "metadata": {},
   "source": [
    "https://www.youtube.com/watch?v=6DGYj1EEWOw&t=240s\n",
    "https://github.com/rohan-paul/LLM-FineTuning-Large-Language-Models/blob/main/Mistral_FineTuning_with_PEFT_and_QLORA.ipynb"
   ]
  },
  {
   "cell_type": "code",
   "execution_count": 1,
   "metadata": {},
   "outputs": [
    {
     "name": "stdout",
     "output_type": "stream",
     "text": [
      "\n",
      "\u001b[1m[\u001b[0m\u001b[34;49mnotice\u001b[0m\u001b[1;39;49m]\u001b[0m\u001b[39;49m A new release of pip is available: \u001b[0m\u001b[31;49m23.3.1\u001b[0m\u001b[39;49m -> \u001b[0m\u001b[32;49m23.3.2\u001b[0m\n",
      "\u001b[1m[\u001b[0m\u001b[34;49mnotice\u001b[0m\u001b[1;39;49m]\u001b[0m\u001b[39;49m To update, run: \u001b[0m\u001b[32;49mpip3 install --upgrade pip\u001b[0m\n",
      "Note: you may need to restart the kernel to use updated packages.\n"
     ]
    }
   ],
   "source": [
    "pip install -q -U bitsandbytes peft bitsandbytes accelerate trl datasets"
   ]
  },
  {
   "cell_type": "code",
   "execution_count": 2,
   "metadata": {},
   "outputs": [
    {
     "name": "stderr",
     "output_type": "stream",
     "text": [
      "/Library/Frameworks/Python.framework/Versions/3.11/lib/python3.11/site-packages/tqdm/auto.py:21: TqdmWarning: IProgress not found. Please update jupyter and ipywidgets. See https://ipywidgets.readthedocs.io/en/stable/user_install.html\n",
      "  from .autonotebook import tqdm as notebook_tqdm\n"
     ]
    }
   ],
   "source": [
    "from peft import LoraConfig, PeftModel, prepare_model_for_kbit_training, get_peft_model"
   ]
  },
  {
   "cell_type": "code",
   "execution_count": 4,
   "metadata": {},
   "outputs": [],
   "source": [
    "from dataclasses import dataclass, field\n",
    "from datasets import load_dataset\n",
    "from typing import Optional\n",
    "import torch\n",
    "from peft import LoraConfig\n",
    "from peft import AutoPeftModelForCausalLM\n",
    "from transformers import (\n",
    "    AutoModelForCausalLM,\n",
    "    AutoTokenizer,\n",
    "    BitsAndBytesConfig,\n",
    "    HfArgumentParser,\n",
    "    AutoTokenizer,\n",
    "    TrainingArguments,\n",
    ")\n",
    "from trl import SFTTrainer"
   ]
  },
  {
   "cell_type": "code",
   "execution_count": 7,
   "metadata": {},
   "outputs": [],
   "source": [
    "dataset = load_dataset(\"json\", data_files=\"IOdata.json\")\n",
    "# Might have to do train/test split"
   ]
  },
  {
   "cell_type": "code",
   "execution_count": 9,
   "metadata": {},
   "outputs": [],
   "source": [
    "@dataclass\n",
    "class ScriptArguments:\n",
    "    \"\"\"\n",
    "    These arguments vary depending on how many GPUs you have, what their capacity and features are, and what size model you want to train.\n",
    "    \"\"\"\n",
    "    local_rank: Optional[int] = -1 # -1 means traning is not distributed\n",
    "    per_device_train_batch_size: Optional[int] = 4 # 4 times num gpus\n",
    "    per_device_eval_batch_size: Optional[int] = 4 # same thing as above\n",
    "    gradient_accumulation_steps: Optional[int] = 4 # how many steps until we do a backward pass\n",
    "    learning_rate: Optional[float] = 2e-5\n",
    "    max_grad_norm: Optional[float] = 0.3 # max allowed norm for the gradient before backprop\n",
    "    weight_decay: Optional[int] = 0.01\n",
    "    lora_alpha: Optional[int] = 16\n",
    "    lora_dropout: Optional[float] = 0.1\n",
    "    lora_r: Optional[int] = 32\n",
    "    max_seq_length: Optional[int] = 512\n",
    "    model_name: Optional[str] = \"mistralai/Mistral-7B-v0.1\"\n",
    "    dataset_name: Optional[str] = None\n",
    "    use_4bit: Optional[bool] = True\n",
    "    use_nested_quant: Optional[bool] = False\n",
    "    bnb_4bit_compute_dtype: Optional[str] = \"float16\"\n",
    "    bnb_4bit_quant_type: Optional[str] = \"nf4\"\n",
    "    num_train_epochs: Optional[int] = 100\n",
    "    fp16: Optional[bool] = False\n",
    "    bf16: Optional[bool] = True\n",
    "    packing: Optional[bool] = False\n",
    "    gradient_checkpointing: Optional[bool] = True\n",
    "    optim: Optional[str] = \"paged_adamw_32bit\"\n",
    "    lr_scheduler_type: str = \"constant\"\n",
    "    max_steps: int = 1000000\n",
    "    warmup_ratio: float = 0.03\n",
    "    group_by_length: bool = True\n",
    "    save_steps: int = 50\n",
    "    logging_steps: int = 50\n",
    "    merge_and_push: Optional[bool] = False\n",
    "    output_dir: str = \"./results_packing\""
   ]
  },
  {
   "cell_type": "code",
   "execution_count": 11,
   "metadata": {},
   "outputs": [],
   "source": [
    "\"\"\"\n",
    "These two lines shoule be used when executed from a python file, not really an ipynb\n",
    "takes dataclasse's arguments and converts them to a dictionary\n",
    "\"\"\"\n",
    "# parser = HfArgumentParser(ScriptArguments)\n",
    "# script_args = parser.parse_args_into_dataclasses()[0]"
   ]
  },
  {
   "cell_type": "code",
   "execution_count": 12,
   "metadata": {},
   "outputs": [],
   "source": [
    "# Do this instead in a jupyter notebook\n",
    "script_args = ScriptArguments(\n",
    "    local_rank=-1,\n",
    "    per_device_train_batch_size=1,  # custom value\n",
    "    per_device_eval_batch_size=1,\n",
    "    gradient_accumulation_steps=4,\n",
    "    learning_rate=3e-5,  # custom value\n",
    "    max_grad_norm=0.3,\n",
    "    weight_decay=0.01,\n",
    "    lora_alpha=16,\n",
    "    lora_dropout=0.1,\n",
    "    lora_r=32,\n",
    "    max_seq_length=512,\n",
    "    model_name=\"mistralai/Mistral-7B-v0.1\",\n",
    "    dataset_name=\"\",\n",
    "    use_4bit=True,\n",
    "    use_nested_quant=False,\n",
    "    bnb_4bit_compute_dtype=\"float16\",\n",
    "    bnb_4bit_quant_type=\"nf4\",\n",
    "    num_train_epochs=100,\n",
    "    fp16=True,\n",
    "    bf16=False,\n",
    "    packing=False,\n",
    "    gradient_checkpointing=True,\n",
    "    optim=\"paged_adamw_32bit\",\n",
    "    lr_scheduler_type=\"constant\",\n",
    "    max_steps=1000000,\n",
    "    warmup_ratio=0.03,\n",
    "    group_by_length=True,\n",
    "    save_steps=50,\n",
    "    logging_steps=50,\n",
    "    merge_and_push=False,\n",
    "    output_dir=\"./results_packing\"\n",
    ")"
   ]
  },
  {
   "cell_type": "code",
   "execution_count": null,
   "metadata": {},
   "outputs": [],
   "source": [
    "def create_and_prepare_model(args):\n",
    "    compute_dtype = getattr(torch, args.bnb_4bit_compute_dtype)\n",
    "\n",
    "    bnb_config = BitsAndBytesConfig(\n",
    "        load_in_4bit=args.use_4bit,\n",
    "        bnb_4bit_quant_type=args.bnb_4bit_quant_type,\n",
    "        bnb_4bit_compute_dtype=compute_dtype,\n",
    "        bnb_4bit_use_double_quant=args.use_nested_quant,\n",
    "    )\n",
    "\n",
    "    if compute_dtype == torch.float16 and args.use_4bit:\n",
    "        major, _ = torch.cuda.get_device_capability()\n",
    "        if major >= 8:\n",
    "            print(\"=\" * 80)\n",
    "            print(\"Your GPU supports bfloat16, you can accelerate training with the argument --bf16\")\n",
    "            print(\"=\" * 80)\n",
    "\n",
    "    # Load the entire model on the GPU 0\n",
    "    # switch to `device_map = \"auto\"` for multi-GPU\n",
    "    device_map = {\"\": 0}\n",
    "\n",
    "    model = AutoModelForCausalLM.from_pretrained(\n",
    "        args.model_name,\n",
    "        quantization_config=bnb_config,\n",
    "        device_map=device_map,\n",
    "        # use_auth_token=True,\n",
    "        # revision=\"refs/pr/35\"\n",
    "    )\n",
    "\n",
    "    #### LLAMA STUFF\n",
    "    # check: https://github.com/huggingface/transformers/pull/24906\n",
    "    model.config.pretraining_tp = 1\n",
    "    # model.config.\n",
    "    #### LLAMA STUFF\n",
    "    model.config.window = 256\n",
    "\n",
    "    peft_config = LoraConfig(\n",
    "        lora_alpha=script_args.lora_alpha,\n",
    "        lora_dropout=script_args.lora_dropout,\n",
    "        # target_modules=[\"query_key_value\"],\n",
    "        r=script_args.lora_r,\n",
    "        bias=\"none\",\n",
    "        task_type=\"CAUSAL_LM\",\n",
    "        target_modules=[\n",
    "        \"q_proj\",\n",
    "        \"k_proj\",\n",
    "        \"v_proj\",\n",
    "        \"o_proj\",\n",
    "    ],\n",
    "    )\n",
    "\n",
    "    tokenizer = AutoTokenizer.from_pretrained(script_args.model_name, trust_remote_code=True)\n",
    "    tokenizer.pad_token = tokenizer.eos_token\n",
    "\n",
    "    return model, peft_config, tokenizer"
   ]
  }
 ],
 "metadata": {
  "kernelspec": {
   "display_name": "Python 3",
   "language": "python",
   "name": "python3"
  },
  "language_info": {
   "codemirror_mode": {
    "name": "ipython",
    "version": 3
   },
   "file_extension": ".py",
   "mimetype": "text/x-python",
   "name": "python",
   "nbconvert_exporter": "python",
   "pygments_lexer": "ipython3",
   "version": "3.11.4"
  }
 },
 "nbformat": 4,
 "nbformat_minor": 2
}
